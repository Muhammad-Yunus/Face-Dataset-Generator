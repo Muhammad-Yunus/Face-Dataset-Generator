{
 "cells": [
  {
   "cell_type": "code",
   "execution_count": 1,
   "metadata": {},
   "outputs": [
    {
     "name": "stdout",
     "output_type": "stream",
     "text": [
      "Masukan nama untuk foto wajah :5\n",
      "Masukan banyaknya foto yang ingin diambil :1\n",
      "5-0.png  saved!\n"
     ]
    }
   ],
   "source": [
    "import cv2\n",
    "import numpy as np\n",
    "import time\n",
    "\n",
    "name = input(\"Masukan nama untuk foto wajah :\")\n",
    "max_image = int(input(\"Masukan banyaknya foto yang ingin diambil :\"))\n",
    "\n",
    "h, w = 480, 640\n",
    "black = np.zeros((h,w,3), dtype=np.uint8)\n",
    "foto = black\n",
    "\n",
    "folder_data = \"photo/\"\n",
    "\n",
    "#image frame\n",
    "ymin, ymax = h//2 - 125, h//2 + 125\n",
    "xmin, xmax = w//2 - 125, w//2 + 125\n",
    "\n",
    "n_image = 0 \n",
    "capture_delay = 2 # second\n",
    "\n",
    "filename = ''\n",
    "label_frame = ''\n",
    "\n",
    "cap = cv2.VideoCapture(0)\n",
    "cap.set(3,w)\n",
    "cap.set(4,h)\n",
    "\n",
    "last_time = time.time()\n",
    "\n",
    "def close():\n",
    "    cap.release()\n",
    "    cv2.destroyAllWindows()\n",
    "    \n",
    "def box(img):\n",
    "    cv2.rectangle(img, (xmin-1, ymin-21), (xmax+1, ymin-1), (0,255,0),-1)\n",
    "    cv2.putText(img, label_frame, (xmin+6, ymin-4), cv2.FONT_HERSHEY_SIMPLEX, 0.5, (255, 255, 255), 1)  \n",
    "    cv2.rectangle(img,(xmin-1, ymin-1),(xmax+1, ymax+1),(0,255,0),1)\n",
    "    cv2.rectangle(img, (xmin-1, ymax+1), (xmax+1, ymax+26), (0,255,0),-1)\n",
    "    cv2.putText(img, \"posisikan wajah pada bingkai..\", \n",
    "                (xmin+6, ymax+16), cv2.FONT_HERSHEY_SIMPLEX, 0.5, (255, 255, 255), 1) \n",
    "    return img\n",
    "\n",
    "while(True):\n",
    "    try :\n",
    "        ret, frame = cap.read()\n",
    "        if filename == '' and (time.time() - last_time):\n",
    "            label_frame = 'Next Capture in ' + str(int(capture_delay - (time.time() - last_time)))\n",
    "        else :\n",
    "            label_frame = filename\n",
    "        \n",
    "        frame = box(frame)\n",
    "        \n",
    "        cv2.imshow('frame',np.hstack((frame, foto)))\n",
    "        \n",
    "        if (time.time() - last_time) > capture_delay :\n",
    "            last_time = time.time()\n",
    "            filename = name + \"-\" + str(n_image) + \".png\"\n",
    "            n_image = n_image + 1\n",
    "            foto[ymin:ymax, xmin:xmax] = frame[ymin:ymax, xmin:xmax]\n",
    "            \n",
    "            cv2.imwrite(filename, frame[ymin:ymax, xmin:xmax])\n",
    "            print(filename, \" saved!\")\n",
    "            \n",
    "        if (time.time() - last_time) > capture_delay*0.25 :\n",
    "            foto = black\n",
    "            filename = \"\"\n",
    "\n",
    "        if (cv2.waitKey(1) & 0xFF == ord('q')) or (n_image >= max_image):\n",
    "            close()\n",
    "            break\n",
    "            \n",
    "    except Exception as e: \n",
    "        print(e)     \n",
    "        close()\n",
    "        break\n",
    "        \n",
    "        \n",
    "\n",
    "    "
   ]
  },
  {
   "cell_type": "code",
   "execution_count": null,
   "metadata": {},
   "outputs": [],
   "source": []
  }
 ],
 "metadata": {
  "kernelspec": {
   "display_name": "Python 3",
   "language": "python",
   "name": "python3"
  },
  "language_info": {
   "codemirror_mode": {
    "name": "ipython",
    "version": 3
   },
   "file_extension": ".py",
   "mimetype": "text/x-python",
   "name": "python",
   "nbconvert_exporter": "python",
   "pygments_lexer": "ipython3",
   "version": "3.7.6"
  }
 },
 "nbformat": 4,
 "nbformat_minor": 4
}
